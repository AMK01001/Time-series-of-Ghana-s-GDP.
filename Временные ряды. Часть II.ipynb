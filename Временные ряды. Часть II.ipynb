{
 "cells": [
  {
   "cell_type": "markdown",
   "metadata": {},
   "source": [
    "# Временные ряды  ВВП Ганы"
   ]
  },
  {
   "cell_type": "markdown",
   "metadata": {},
   "source": [
    "## Задания для проекта\n",
    "\n",
    "Итак, здесь вы начинаете работу над своим небольшим проектом. Напоминаем — работать нужно с данными по ВВП Ганы. Выполняйте все задания проекта в одном Jupyter-ноутбуке.\n",
    "\n",
    "1. Прочитайте исходный файл с данными. Визуализируйте исходный временной ряд, сделайте первичные выводы о присутствии компонент тренда и сезонности в ряде.\n",
    "\n",
    "Отложите последние три года из датасета как тестовую выборку для оценки результатов предсказания.\n",
    "\n",
    "2. Постройте график скользящего среднего, проанализируйте результат. Для построения MA используйте метод rolling(), который принимает в качестве параметра размер окна. \n",
    "Используйте среднее как функцию для сглаживания. Ширину окна подберите самостоятельно.\n",
    "\n",
    "Пример: train_df.spx.rolling(window=2).mean().\n",
    "\n",
    "Визуализируйте исходный временной ряд и построенный с помощью скользящего среднего прогноз, сравните графики между собой и сделайте выводы.\n",
    "\n",
    "3. С помощью теста Дики-Фуллера оцените стационарность временного ряда и примите решение о выборе модели ARMA/ARIMA.\n",
    "\n",
    "Примечание. Если ваш ряд является нестационарным, дифференцируйте его до тех пор, пока он не станет таковым. Количество дифференцирований, необходимых для сведения ряда \n",
    "к стационарному, будет вашим параметром d для модели ARIMA.\n",
    "\n",
    "Параметры p и q выберите по коррелограммам ACF и PACF.\n",
    "\n",
    "Примечание. Помните, что параметры p и q для ARMA/ARIMA определяются из коррелограмм стационарного ряда. То есть, если ваш изначальный временной ряд не являлся \n",
    "стационарным, то коррелограммы строятся для разностей того порядка, которые являются стационарными.\n",
    "\n",
    "Постройте модель ARMA/ARIMA для прогнозирования поведения временного ряда.\n",
    "\n",
    "Также постройте несколько моделей с параметрами, ближайшими к найденным p и q, и сравните коэффициент AIC (или подберите наилучшие параметры с помощью пакета pmdarima, \n",
    "как в скринкасте).\n",
    "\n",
    "4. Постройте модель с наилучшими параметрами и выполните предсказание для отложенной тестовой выборки (последние три года).\n",
    "\n",
    "5. Отобразите результат графически — постройте графики истинного и предсказанного поведения временного ряда, а также 95%-ый доверительный интервал для прогноза.\n",
    "\n",
    "6. Сделайте выводы по полученным результатам."
   ]
  },
  {
   "cell_type": "markdown",
   "metadata": {},
   "source": [
    "Прочитайте исходный файл с данными"
   ]
  },
  {
   "cell_type": "code",
   "execution_count": 38,
   "metadata": {},
   "outputs": [],
   "source": [
    "import pandas as pd\n",
    "import numpy as np\n",
    "from statsmodels.tsa.seasonal import seasonal_decompose\n",
    "from matplotlib import pyplot\n",
    "import statsmodels.api as sm\n",
    "import matplotlib.pyplot as plt\n",
    "%matplotlib inline \n",
    "\n",
    "from datetime import datetime\n"
   ]
  },
  {
   "cell_type": "code",
   "execution_count": 19,
   "metadata": {},
   "outputs": [
    {
     "data": {
      "application/vnd.microsoft.datawrangler.viewer.v0+json": {
       "columns": [
        {
         "name": "year",
         "rawType": "datetime64[ns]",
         "type": "datetime"
        },
        {
         "name": "GDP (current US$)",
         "rawType": "float64",
         "type": "float"
        }
       ],
       "conversionMethod": "pd.DataFrame",
       "ref": "05bba6bc-e9f9-466d-98ff-adf2625ede81",
       "rows": [
        [
         "1960-01-01 00:00:00",
         "1217086834.73389"
        ],
        [
         "1961-01-01 00:00:00",
         "0.0"
        ],
        [
         "1962-01-01 00:00:00",
         "1382352941.17647"
        ],
        [
         "1963-01-01 00:00:00",
         "1540616246.4986"
        ],
        [
         "1964-01-01 00:00:00",
         "1731092436.97479"
        ]
       ],
       "shape": {
        "columns": 1,
        "rows": 5
       }
      },
      "text/html": [
       "<div>\n",
       "<style scoped>\n",
       "    .dataframe tbody tr th:only-of-type {\n",
       "        vertical-align: middle;\n",
       "    }\n",
       "\n",
       "    .dataframe tbody tr th {\n",
       "        vertical-align: top;\n",
       "    }\n",
       "\n",
       "    .dataframe thead th {\n",
       "        text-align: right;\n",
       "    }\n",
       "</style>\n",
       "<table border=\"1\" class=\"dataframe\">\n",
       "  <thead>\n",
       "    <tr style=\"text-align: right;\">\n",
       "      <th></th>\n",
       "      <th>GDP (current US$)</th>\n",
       "    </tr>\n",
       "    <tr>\n",
       "      <th>year</th>\n",
       "      <th></th>\n",
       "    </tr>\n",
       "  </thead>\n",
       "  <tbody>\n",
       "    <tr>\n",
       "      <th>1960-01-01</th>\n",
       "      <td>1.217087e+09</td>\n",
       "    </tr>\n",
       "    <tr>\n",
       "      <th>1961-01-01</th>\n",
       "      <td>0.000000e+00</td>\n",
       "    </tr>\n",
       "    <tr>\n",
       "      <th>1962-01-01</th>\n",
       "      <td>1.382353e+09</td>\n",
       "    </tr>\n",
       "    <tr>\n",
       "      <th>1963-01-01</th>\n",
       "      <td>1.540616e+09</td>\n",
       "    </tr>\n",
       "    <tr>\n",
       "      <th>1964-01-01</th>\n",
       "      <td>1.731092e+09</td>\n",
       "    </tr>\n",
       "  </tbody>\n",
       "</table>\n",
       "</div>"
      ],
      "text/plain": [
       "            GDP (current US$)\n",
       "year                         \n",
       "1960-01-01       1.217087e+09\n",
       "1961-01-01       0.000000e+00\n",
       "1962-01-01       1.382353e+09\n",
       "1963-01-01       1.540616e+09\n",
       "1964-01-01       1.731092e+09"
      ]
     },
     "metadata": {},
     "output_type": "display_data"
    },
    {
     "name": "stdout",
     "output_type": "stream",
     "text": [
      "            GDP (current US$)\n",
      "year                         \n",
      "1960-01-01       1.217087e+09\n",
      "1961-01-01       0.000000e+00\n",
      "1962-01-01       1.382353e+09\n",
      "1963-01-01       1.540616e+09\n",
      "1964-01-01       1.731092e+09\n",
      "...                       ...\n",
      "2017-01-01       6.040638e+10\n",
      "2018-01-01       6.729928e+10\n",
      "2019-01-01       6.833754e+10\n",
      "2020-01-01       7.004320e+10\n",
      "2021-01-01       7.759428e+10\n",
      "\n",
      "[62 rows x 1 columns]\n"
     ]
    }
   ],
   "source": [
    "data = pd.read_csv(\"data/ghana_gdp.csv\", parse_dates=[\"year\"], index_col=[\"year\"])\n",
    "\n",
    "display(data.head())\n",
    "print(data)"
   ]
  },
  {
   "cell_type": "markdown",
   "metadata": {},
   "source": [
    "Визуализируйте исходный временной ряд, сделайте первичные выводы о присутствии компонент тренда и сезонности в ряде."
   ]
  },
  {
   "cell_type": "code",
   "execution_count": null,
   "metadata": {},
   "outputs": [
    {
     "data": {
      "text/plain": [
       "<Axes: xlabel='year'>"
      ]
     },
     "execution_count": 20,
     "metadata": {},
     "output_type": "execute_result"
    },
    {
     "data": {
      "image/png": "[encoded data removed]",
      "text/plain": [
       "<Figure size 640x480 with 1 Axes>"
      ]
     },
     "metadata": {},
     "output_type": "display_data"
    }
   ],
   "source": [
    "# # Визуализация временного ряда\n",
    "data.plot()"
   ]
  },
  {
   "cell_type": "markdown",
   "metadata": {},
   "source": [
    "Проанализируйте временной ряд на наличие тренда и сезонности."
   ]
  },
  {
   "cell_type": "code",
   "execution_count": 21,
   "metadata": {},
   "outputs": [
    {
     "data": {
      "image/png": "[encoded data removed]",
      "text/plain": [
       "<Figure size 640x480 with 4 Axes>"
      ]
     },
     "metadata": {},
     "output_type": "display_data"
    }
   ],
   "source": [
    "decomposition = seasonal_decompose(data, model='additive') \n",
    "decomposition.plot()\n",
    "pyplot.show() # любуемся результатом"
   ]
  },
  {
   "cell_type": "markdown",
   "metadata": {},
   "source": [
    "# первичные выводы о присутствии компонент тренда и сезонности в ряде.\n",
    "\n",
    "Судя по предоставленной диаграмме декомпозиции временного ряда, можно сделать следующие первичные выводы:\n",
    "\n",
    "1. Общий тренд: \n",
    "   - На графике тренда видно, что данные ВВП Ганы имеют выраженный восходящий тренд. Это говорит о том, что с течением времени ВВП страны увеличивается.\n",
    "\n",
    "2. Сезонность: \n",
    "   - График сезонности плоский и близок к нулю. Это указывает на отсутствие выраженных сезонных колебаний в данных. Это может быть вызвано тем, что период данных не подходит для выявления сезонности или же, действительно, сезонность отсутствует.\n",
    "\n",
    "3. Остатки (Resid): \n",
    "   - График остатков показывает небольшие расхождения от нуля. Это соответствует незначительным колебаниям данных, которые не объясняются трендом или сезонностью.\n",
    "\n",
    "Ваш анализ показывает, что основное поведение данных объясняется трендом, а сезонные изменения практически отсутствуют. Если нужны более детальные выводы или анализ, рекомендуем проверить характеристики данных (например, частоту наблюдений) и, возможно, попробовать использовать мультипликативную модель вместо аддитивной, если ваши данные имеют более сложные отношения между компонентами."
   ]
  },
  {
   "cell_type": "markdown",
   "metadata": {},
   "source": [
    "Отложите последние три года из датасета как тестовую выборку для оценки результатов предсказания."
   ]
  },
  {
   "cell_type": "code",
   "execution_count": 22,
   "metadata": {},
   "outputs": [
    {
     "name": "stdout",
     "output_type": "stream",
     "text": [
      "Размер тренировочной выборки: 59\n",
      "Размер тестовой выборки: 3\n"
     ]
    }
   ],
   "source": [
    "# Делим исходный временной ряд на тренировочную и тестовую выборки\n",
    "train_data = data.iloc[:len(data)-3]  # Все данные, кроме последних трех наблюдений\n",
    "test_data = data.iloc[len(data)-3:]   # Последние три наблюдения для теста\n",
    "\n",
    "# Проверим размер данных\n",
    "print(\"Размер тренировочной выборки:\", len(train_data))\n",
    "print(\"Размер тестовой выборки:\", len(test_data))\n"
   ]
  },
  {
   "cell_type": "markdown",
   "metadata": {},
   "source": [
    "Постройте график скользящего среднего, проанализируйте результат. Для построения MA используйте метод rolling(), который принимает в качестве параметра размер окна. Используйте среднее как функцию для сглаживания. Ширину окна подберите самостоятельно.\n",
    "\n",
    "Пример:train_df.spx.rolling(window=2).mean().\n",
    "\n",
    "\n",
    "Визуализируйте исходный временной ряд и построенный с помощью скользящего среднего прогноз, сравните графики между собой и сделайте выводы."
   ]
  },
  {
   "cell_type": "code",
   "execution_count": null,
   "metadata": {},
   "outputs": [
    {
     "name": "stdout",
     "output_type": "stream",
     "text": [
      "Index(['GDP (current US$)'], dtype='object')\n"
     ]
    }
   ],
   "source": [
    "# Чтобы избежать подобных ошибок, рекомендуется сначала проверить имеющиеся столбцы в датафрейме\n",
    "print(train_data.columns)"
   ]
  },
  {
   "cell_type": "code",
   "execution_count": 31,
   "metadata": {},
   "outputs": [
    {
     "data": {
      "image/png": "[encoded data removed]",
      "text/plain": [
       "<Figure size 1200x600 with 1 Axes>"
      ]
     },
     "metadata": {},
     "output_type": "display_data"
    }
   ],
   "source": [
    "# Построение скользящего среднего с окном в 10\n",
    "rolling_mean = train_data['GDP (current US$)'].rolling(window=10).mean()\n",
    "\n",
    "# Визуализируем исходный временной ряд и скользящее среднее\n",
    "plt.figure(figsize=(12, 6))\n",
    "plt.plot(train_data['GDP (current US$)'], label='Исходный временной ряд')\n",
    "plt.plot(rolling_mean, label='Скользящее среднее (окно = 10)', color='orange')\n",
    "plt.legend()\n",
    "plt.title('Сравнение исходного ряда и скользящего среднего')\n",
    "plt.show()"
   ]
  },
  {
   "cell_type": "markdown",
   "metadata": {},
   "source": [
    "На графике представлены два временных ряда:\n",
    "\n",
    "1. Исходный временной ряд (синий график) — показывает значения данных с их полной волатильностью и колебаниями.\n",
    "2. Скользящее среднее (оранжевый график) — сглаженный ряд, построенный с использованием окна размера 10, что позволяет уменьшить влияние краткосрочных колебаний и выявить долгосрочные тренды.\n",
    "\n",
    "### Сравнение\n",
    "1. Колебания:\n",
    "    - Синий график демонстрирует большие скачки, резкие изменения, особенно после 2000 года. Это указывает на заметные колебания в исходных данных.\n",
    "    - Оранжевый график сглаживает колебания за счет усреднения значений. Скользящее среднее показывает общий тренд, проигнорировав краткосрочные флуктуации.\n",
    "\n",
    "2. Тренд:\n",
    "    - Скользящее среднее показывает стабильный рост на длинных временных интервалах.\n",
    "    - Исходный ряд сохраняет общий тренд роста, но имеет большие отклонения от средней линии.\n",
    "\n",
    "3. Особенности поведения:\n",
    "    - В период с 1960 по примерно 2000 год изменения на графике происходят относительно плавно как для исходного ряда, так и для скользящего среднего.\n",
    "    - После 2000 года начинается резкий рост. Этот рост более четко заметен на исходном графике, в то время как сглаженный график лишь постепенно повторяет эту тенденцию.\n",
    "\n",
    "### Выводы\n",
    "- Скользящее среднее дает более четкое представление о долгосрочных трендах в данных, исключая кратковременные флуктуации.\n",
    "- Резкие изменения в исходном графике (после 2000 года) могут быть связаны с какими-то внешними факторами, такими как экономические, социальные или технологические изменения.\n",
    "- Рекомендуется использовать оба графика в анализе: исходный — для изучения кратковременных аномалий, а скользящее среднее — для анализа долгосрочного тренда."
   ]
  },
  {
   "cell_type": "markdown",
   "metadata": {},
   "source": [
    "С помощью теста Дики-Фуллера оцените стационарность временного ряда и примите решение о выборе модели ARMA/ARIMA."
   ]
  },
  {
   "cell_type": "code",
   "execution_count": 34,
   "metadata": {},
   "outputs": [
    {
     "name": "stdout",
     "output_type": "stream",
     "text": [
      "adf:  0.6529066974885349\n",
      "p-value:  0.9888496277665572\n",
      "Critical values:  {'1%': -3.5745892596209488, '5%': -2.9239543084490744, '10%': -2.6000391840277777}\n",
      "есть единичные корни, ряд не стационарен\n"
     ]
    }
   ],
   "source": [
    "from statsmodels.tsa.stattools import adfuller\n",
    "\n",
    "def stat_test(data):\n",
    "    test = sm.tsa.adfuller(data)\n",
    "    print ('adf: ', test[0] )\n",
    "    print ('p-value: ', test[1])\n",
    "    print('Critical values: ', test[4])\n",
    "    if test[0]> test[4]['5%']: \n",
    "        print ('есть единичные корни, ряд не стационарен')\n",
    "    else:\n",
    "        print ('единичных корней нет, ряд стационарен')\n",
    "\n",
    "stat_test(train_data)"
   ]
  },
  {
   "cell_type": "markdown",
   "metadata": {},
   "source": [
    "Примечание. Если ваш ряд является нестационарным, дифференцируйте его до тех пор, пока он не станет таковым. Количество дифференцирований, необходимых для сведения ряда к стационарному, будет вашим параметром d для модели ARIMA."
   ]
  },
  {
   "cell_type": "markdown",
   "metadata": {},
   "source": [
    "Количество разностей, необходимых для достижения стационарности, станет параметром d для ARIMA."
   ]
  },
  {
   "cell_type": "code",
   "execution_count": 35,
   "metadata": {},
   "outputs": [
    {
     "name": "stdout",
     "output_type": "stream",
     "text": [
      "adf:  -1.587944111800476\n",
      "p-value:  0.4896467177743541\n",
      "Critical values:  {'1%': -3.5714715250448363, '5%': -2.922629480573571, '10%': -2.5993358475635153}\n",
      "ряд нестационарен\n"
     ]
    }
   ],
   "source": [
    "# Получить новый ряд посредством взятия разности (применяем к необходимому датафрейму):\n",
    "\n",
    "df_diff_1 = data.diff().dropna()\n",
    "\n",
    "# Провести для нового ряда тест на стационарность (например, тест Дики — Фуллера):\n",
    "test1 = adfuller(df_diff_1)\n",
    "print ('adf: ', test1[0])\n",
    "print ('p-value: ', test1[1])\n",
    "print ('Critical values: ', test1[4])\n",
    "if test1[0]> test1[4]['5%']: \n",
    "    print ('ряд нестационарен')\n",
    "else:\n",
    "    print ('ряд стационарен')"
   ]
  },
  {
   "cell_type": "code",
   "execution_count": 36,
   "metadata": {},
   "outputs": [
    {
     "name": "stdout",
     "output_type": "stream",
     "text": [
      "adf:  -1.745908762849135\n",
      "p-value:  0.40762748326075393\n",
      "Critical values:  {'1%': -3.5714715250448363, '5%': -2.922629480573571, '10%': -2.5993358475635153}\n",
      "ряд нестационарен\n"
     ]
    }
   ],
   "source": [
    "df_diff_2 = df_diff_1.diff().dropna()\n",
    "\n",
    "# Провести для нового ряда тест на стационарность (например, тест Дики — Фуллера):\n",
    "test1 = adfuller(df_diff_2)\n",
    "print ('adf: ', test1[0])\n",
    "print ('p-value: ', test1[1])\n",
    "print ('Critical values: ', test1[4])\n",
    "if test1[0]> test1[4]['5%']: \n",
    "    print ('ряд нестационарен')\n",
    "else:\n",
    "    print ('ряд стационарен')"
   ]
  },
  {
   "cell_type": "code",
   "execution_count": 37,
   "metadata": {},
   "outputs": [
    {
     "name": "stdout",
     "output_type": "stream",
     "text": [
      "adf:  -5.278476343687468\n",
      "p-value:  6.066691711555073e-06\n",
      "Critical values:  {'1%': -3.5714715250448363, '5%': -2.922629480573571, '10%': -2.5993358475635153}\n",
      "ряд стационарен\n"
     ]
    }
   ],
   "source": [
    "df_diff_3 = df_diff_2.diff().dropna()\n",
    "\n",
    "# Провести для нового ряда тест на стационарность (например, тест Дики — Фуллера):\n",
    "test1 = adfuller(df_diff_3)\n",
    "print ('adf: ', test1[0])\n",
    "print ('p-value: ', test1[1])\n",
    "print ('Critical values: ', test1[4])\n",
    "if test1[0]> test1[4]['5%']: \n",
    "    print ('ряд нестационарен')\n",
    "else:\n",
    "    print ('ряд стационарен')"
   ]
  },
  {
   "cell_type": "markdown",
   "metadata": {},
   "source": [
    "Параметры p и q выберите по коррелограммам ACF и PACF.\n",
    "\n",
    "Примечание. Помните, что параметры p и q для ARMA/ARIMA определяются из коррелограмм стационарного ряда. То есть, если ваш изначальный временной ряд не являлся стационарным, то коррелограммы строятся для разностей того порядка, которые являются стационарными."
   ]
  },
  {
   "cell_type": "markdown",
   "metadata": {},
   "source": [
    "Определите порядок модели AR по графику частичной автокорреляции."
   ]
  },
  {
   "cell_type": "code",
   "execution_count": 39,
   "metadata": {},
   "outputs": [
    {
     "data": {
      "image/png": "[encoded data removed]",
      "text/plain": [
       "<Figure size 1200x800 with 2 Axes>"
      ]
     },
     "metadata": {},
     "output_type": "display_data"
    }
   ],
   "source": [
    "fig = plt.figure(figsize=(12,8))\n",
    "ax1 = fig.add_subplot(211)\n",
    "fig = sm.graphics.tsa.plot_acf(df_diff_3.values.squeeze(), lags=25, ax=ax1)\n",
    "ax2 = fig.add_subplot(212)\n",
    "fig = sm.graphics.tsa.plot_pacf(df_diff_3, lags=25, ax=ax2)"
   ]
  },
  {
   "cell_type": "markdown",
   "metadata": {},
   "source": [
    "### ACF (график автокорреляции):\n",
    "На графике автокорреляции наблюдается значимая корреляция на лаге 1, после чего корреляция резко обрывается (график входит в доверительный интервал) и становится незначимой. Это указывает на то, что параметр q ≈ 1 (связано с MA-компонентой).  \n",
    "\n",
    "\n",
    "\n",
    "### PACF (график частичной автокорреляции):\n",
    "На графике PACF видна значимая корреляция на лаге 1, которая также обрывается после первого лага. Это указывает на то, что параметр p ≈ 1 (связано с AR-компонентой)."
   ]
  },
  {
   "cell_type": "markdown",
   "metadata": {},
   "source": [
    "# Постройте модель ARMA/ARIMA для прогнозирования поведения временного ряда."
   ]
  },
  {
   "cell_type": "markdown",
   "metadata": {},
   "source": [
    "Начнем построение модели **ARIMA** со следующими параметрами:\n",
    "\n",
    "- p = 1 \n",
    "- d = 3 \n",
    "- q = 1 "
   ]
  },
  {
   "cell_type": "code",
   "execution_count": 40,
   "metadata": {},
   "outputs": [
    {
     "name": "stderr",
     "output_type": "stream",
     "text": [
      "c:\\Users\\alexD\\AppData\\Local\\Programs\\Python\\Python311\\Lib\\site-packages\\statsmodels\\tsa\\base\\tsa_model.py:473: ValueWarning: No frequency information was provided, so inferred frequency AS-JAN will be used.\n",
      "  self._init_dates(dates, freq)\n",
      "c:\\Users\\alexD\\AppData\\Local\\Programs\\Python\\Python311\\Lib\\site-packages\\statsmodels\\tsa\\base\\tsa_model.py:473: ValueWarning: No frequency information was provided, so inferred frequency AS-JAN will be used.\n",
      "  self._init_dates(dates, freq)\n",
      "c:\\Users\\alexD\\AppData\\Local\\Programs\\Python\\Python311\\Lib\\site-packages\\statsmodels\\tsa\\base\\tsa_model.py:473: ValueWarning: No frequency information was provided, so inferred frequency AS-JAN will be used.\n",
      "  self._init_dates(dates, freq)\n"
     ]
    },
    {
     "data": {
      "text/html": [
       "<table class=\"simpletable\">\n",
       "<caption>SARIMAX Results</caption>\n",
       "<tr>\n",
       "  <th>Dep. Variable:</th>   <td>GDP (current US$)</td> <th>  No. Observations:  </th>    <td>59</td>    \n",
       "</tr>\n",
       "<tr>\n",
       "  <th>Model:</th>            <td>ARIMA(1, 3, 1)</td>   <th>  Log Likelihood     </th> <td>-1332.455</td>\n",
       "</tr>\n",
       "<tr>\n",
       "  <th>Date:</th>            <td>seg, 17 fev 2025</td>  <th>  AIC                </th> <td>2670.910</td> \n",
       "</tr>\n",
       "<tr>\n",
       "  <th>Time:</th>                <td>16:29:52</td>      <th>  BIC                </th> <td>2676.986</td> \n",
       "</tr>\n",
       "<tr>\n",
       "  <th>Sample:</th>             <td>01-01-1960</td>     <th>  HQIC               </th> <td>2673.266</td> \n",
       "</tr>\n",
       "<tr>\n",
       "  <th></th>                   <td>- 01-01-2018</td>    <th>                     </th>     <td> </td>    \n",
       "</tr>\n",
       "<tr>\n",
       "  <th>Covariance Type:</th>        <td>opg</td>        <th>                     </th>     <td> </td>    \n",
       "</tr>\n",
       "</table>\n",
       "<table class=\"simpletable\">\n",
       "<tr>\n",
       "     <td></td>       <th>coef</th>     <th>std err</th>      <th>z</th>      <th>P>|z|</th>  <th>[0.025</th>    <th>0.975]</th>  \n",
       "</tr>\n",
       "<tr>\n",
       "  <th>ar.L1</th>  <td>   -0.5073</td> <td>    0.091</td> <td>   -5.600</td> <td> 0.000</td> <td>   -0.685</td> <td>   -0.330</td>\n",
       "</tr>\n",
       "<tr>\n",
       "  <th>ma.L1</th>  <td>   -0.9751</td> <td>    0.132</td> <td>   -7.380</td> <td> 0.000</td> <td>   -1.234</td> <td>   -0.716</td>\n",
       "</tr>\n",
       "<tr>\n",
       "  <th>sigma2</th> <td> 4.066e+19</td> <td> 1.88e-21</td> <td> 2.17e+40</td> <td> 0.000</td> <td> 4.07e+19</td> <td> 4.07e+19</td>\n",
       "</tr>\n",
       "</table>\n",
       "<table class=\"simpletable\">\n",
       "<tr>\n",
       "  <th>Ljung-Box (L1) (Q):</th>      <td>3.34</td>  <th>  Jarque-Bera (JB):  </th> <td>140.21</td>\n",
       "</tr>\n",
       "<tr>\n",
       "  <th>Prob(Q):</th>                 <td>0.07</td>  <th>  Prob(JB):          </th>  <td>0.00</td> \n",
       "</tr>\n",
       "<tr>\n",
       "  <th>Heteroskedasticity (H):</th> <td>441.28</td> <th>  Skew:              </th>  <td>-0.45</td>\n",
       "</tr>\n",
       "<tr>\n",
       "  <th>Prob(H) (two-sided):</th>     <td>0.00</td>  <th>  Kurtosis:          </th>  <td>10.70</td>\n",
       "</tr>\n",
       "</table><br/><br/>Warnings:<br/>[1] Covariance matrix calculated using the outer product of gradients (complex-step).<br/>[2] Covariance matrix is singular or near-singular, with condition number 2.68e+56. Standard errors may be unstable."
      ],
      "text/latex": [
       "\\begin{center}\n",
       "\\begin{tabular}{lclc}\n",
       "\\toprule\n",
       "\\textbf{Dep. Variable:}          & GDP (current US\\$) & \\textbf{  No. Observations:  } &     59      \\\\\n",
       "\\textbf{Model:}                  &   ARIMA(1, 3, 1)   & \\textbf{  Log Likelihood     } & -1332.455   \\\\\n",
       "\\textbf{Date:}                   &  seg, 17 fev 2025  & \\textbf{  AIC                } &  2670.910   \\\\\n",
       "\\textbf{Time:}                   &      16:29:52      & \\textbf{  BIC                } &  2676.986   \\\\\n",
       "\\textbf{Sample:}                 &     01-01-1960     & \\textbf{  HQIC               } &  2673.266   \\\\\n",
       "\\textbf{}                        &    - 01-01-2018    & \\textbf{                     } &             \\\\\n",
       "\\textbf{Covariance Type:}        &        opg         & \\textbf{                     } &             \\\\\n",
       "\\bottomrule\n",
       "\\end{tabular}\n",
       "\\begin{tabular}{lcccccc}\n",
       "                & \\textbf{coef} & \\textbf{std err} & \\textbf{z} & \\textbf{P$> |$z$|$} & \\textbf{[0.025} & \\textbf{0.975]}  \\\\\n",
       "\\midrule\n",
       "\\textbf{ar.L1}  &      -0.5073  &        0.091     &    -5.600  &         0.000        &       -0.685    &       -0.330     \\\\\n",
       "\\textbf{ma.L1}  &      -0.9751  &        0.132     &    -7.380  &         0.000        &       -1.234    &       -0.716     \\\\\n",
       "\\textbf{sigma2} &    4.066e+19  &     1.88e-21     &  2.17e+40  &         0.000        &     4.07e+19    &     4.07e+19     \\\\\n",
       "\\bottomrule\n",
       "\\end{tabular}\n",
       "\\begin{tabular}{lclc}\n",
       "\\textbf{Ljung-Box (L1) (Q):}     &  3.34  & \\textbf{  Jarque-Bera (JB):  } & 140.21  \\\\\n",
       "\\textbf{Prob(Q):}                &  0.07  & \\textbf{  Prob(JB):          } &  0.00   \\\\\n",
       "\\textbf{Heteroskedasticity (H):} & 441.28 & \\textbf{  Skew:              } & -0.45   \\\\\n",
       "\\textbf{Prob(H) (two-sided):}    &  0.00  & \\textbf{  Kurtosis:          } & 10.70   \\\\\n",
       "\\bottomrule\n",
       "\\end{tabular}\n",
       "%\\caption{SARIMAX Results}\n",
       "\\end{center}\n",
       "\n",
       "Warnings: \\newline\n",
       " [1] Covariance matrix calculated using the outer product of gradients (complex-step). \\newline\n",
       " [2] Covariance matrix is singular or near-singular, with condition number 2.68e+56. Standard errors may be unstable."
      ],
      "text/plain": [
       "<class 'statsmodels.iolib.summary.Summary'>\n",
       "\"\"\"\n",
       "                               SARIMAX Results                                \n",
       "==============================================================================\n",
       "Dep. Variable:      GDP (current US$)   No. Observations:                   59\n",
       "Model:                 ARIMA(1, 3, 1)   Log Likelihood               -1332.455\n",
       "Date:                seg, 17 fev 2025   AIC                           2670.910\n",
       "Time:                        16:29:52   BIC                           2676.986\n",
       "Sample:                    01-01-1960   HQIC                          2673.266\n",
       "                         - 01-01-2018                                         \n",
       "Covariance Type:                  opg                                         \n",
       "==============================================================================\n",
       "                 coef    std err          z      P>|z|      [0.025      0.975]\n",
       "------------------------------------------------------------------------------\n",
       "ar.L1         -0.5073      0.091     -5.600      0.000      -0.685      -0.330\n",
       "ma.L1         -0.9751      0.132     -7.380      0.000      -1.234      -0.716\n",
       "sigma2      4.066e+19   1.88e-21   2.17e+40      0.000    4.07e+19    4.07e+19\n",
       "===================================================================================\n",
       "Ljung-Box (L1) (Q):                   3.34   Jarque-Bera (JB):               140.21\n",
       "Prob(Q):                              0.07   Prob(JB):                         0.00\n",
       "Heteroskedasticity (H):             441.28   Skew:                            -0.45\n",
       "Prob(H) (two-sided):                  0.00   Kurtosis:                        10.70\n",
       "===================================================================================\n",
       "\n",
       "Warnings:\n",
       "[1] Covariance matrix calculated using the outer product of gradients (complex-step).\n",
       "[2] Covariance matrix is singular or near-singular, with condition number 2.68e+56. Standard errors may be unstable.\n",
       "\"\"\""
      ]
     },
     "execution_count": 40,
     "metadata": {},
     "output_type": "execute_result"
    }
   ],
   "source": [
    "from statsmodels.tsa.arima.model import ARIMA\n",
    "\n",
    "arima_model = ARIMA(train_data['GDP (current US$)'].dropna(), order=(1, 3, 1))\n",
    "arima_model_fit = arima_model.fit()\n",
    "arima_model_fit.summary()"
   ]
  },
  {
   "cell_type": "markdown",
   "metadata": {},
   "source": [
    "На основании предоставленных результатов модели ARIMA(1, 3, 1) можно дать следующую интерпретацию:\n",
    "\n",
    "---\n",
    "\n",
    "### Основные метрики модели\n",
    "\n",
    "1. Log Likelihood: -1332.455 — отрицательное значение логарифма правдоподобия. Это обычный случай в таких моделях. Чем больше (ближе к 0), тем лучше.\n",
    "2. AIC: 2670.910 — критерий информации Акаике, который используется для оценки качества модели. Меньшее значение указывает на лучшую модель.\n",
    "3. BIC: 2676.986 — байесовский информационный критерий. Аналогично AIC, также используется для сравнения моделей.\n",
    "4. HQIC: 2673.266 — критерий информации Ханнана-Куинна. Также учитывает баланс качества и сложности модели.\n",
    "\n",
    "Чем ниже AIC, BIC и HQIC, тем лучше модель. Эти метрики нужно сравнить с другими возможными вариантами модели ARIMA, чтобы выбрать оптимальную.\n",
    "\n",
    "---\n",
    "\n",
    "### Коэффициенты модели\n",
    "\n",
    "1. ar.L1 (коэффициент AR): -0.5073  \n",
    "   - Параметр авторегрессии значим (P>|z| = 0.000) и отрицательный. Это говорит о том, что модель учитывает автокорреляцию и она оказывает обратный эффект на текущий уровень временного ряда.\n",
    "   \n",
    "2. ma.L1 (коэффициент MA): -0.9751  \n",
    "   - Параметр MA значим (P>|z| = 0.000) и близок к -1, что указывает на сильный эффект скользящей средней в модели.\n",
    "\n",
    "3. sigma2 (дисперсия шума): 4.066e+19  \n",
    "   - Дисперсия остатков очень высокая, что говорит о высокой изменчивости ряда.\n",
    "\n",
    "---\n",
    "\n",
    "### Диагностика остатков\n",
    "\n",
    "1. Ljung-Box (Q): 3.34, Prob(Q): 0.07  \n",
    "   - Статистика Льюнга-Бокса проверяет наличие остатков, несущих автокорреляцию. Здесь вероятность на уровне 0.07, что выше стандартного уровня значимости 0.05. То есть, автокорреляция остатков, вероятно, отсутствует, что хорошо.\n",
    "\n",
    "2. Jarque-Bera (JB): 140.21, Prob(JB): 0.00  \n",
    "   - Статистика Жарка-Бера проверяет нормальность распределения остатков. Вероятность 0.00 говорит о том, что остатки не нормальны по распределению, что нужно учитывать.\n",
    "\n",
    "3. Heteroskedasticity (H): 441.28, Prob(H): 0.00  \n",
    "   - Гетероскедастичность присутствует (значение H очень высокое, а вероятность 0.00), что говорит о неравномерной дисперсии остатков.\n",
    "\n",
    "4. Skew: -0.45  \n",
    "   - Легкий отрицательный перекос в распределении остатков.\n",
    "\n",
    "5. Kurtosis: 10.70  \n",
    "   - Высокое значение эксцесса (10.70) говорит о длинных хвостах в распределении остатков.\n",
    "\n",
    "---\n",
    "\n",
    "### Общие проблемы модели\n",
    "\n",
    "1. Не нормальные и гетероскедастичные остатки. Это может быть связано с тем, что порядок дифференцирования d = 3 мог быть выбран слишком высоким и мог привести к \"переобработке\" данных.\n",
    "2. Высокая дисперсия остатков и длинные хвосты в распределении. Следует проверить, можно ли улучшить модель с помощью другого порядка ARIMA, снижения d или внесения дополнительных трансформаций данных (например, логарифмирования или боксовой-коксовой трансформации).\n",
    "\n",
    "---\n",
    "\n",
    "### Рекомендации\n",
    "\n",
    "1. Попробуйте снизить d до 2, так как трикратное дифференцирование может излишне сделало данные шумными.\n",
    "2. Проверьте модель с альтернативными значениями p и q (например, ARIMA(2, 2, 2) или ARIMA(1, 2, 1)).\n",
    "3. Использовать Box-Cox трансформацию или логарифмирование ряда, чтобы скорректировать влияние экстремальных значений.\n",
    "4. Выведите графики остатков и ACF/PACF остатков, чтобы убедиться в отсутствии автокорреляции и изучить их распределение."
   ]
  },
  {
   "cell_type": "markdown",
   "metadata": {},
   "source": [
    "построение модели **ARMA** со следующими параметрами:\n",
    "\n",
    "- p = 1 \n",
    "- d = 0 \n",
    "- q = 1 "
   ]
  },
  {
   "cell_type": "code",
   "execution_count": 41,
   "metadata": {},
   "outputs": [
    {
     "name": "stderr",
     "output_type": "stream",
     "text": [
      "c:\\Users\\alexD\\AppData\\Local\\Programs\\Python\\Python311\\Lib\\site-packages\\statsmodels\\tsa\\base\\tsa_model.py:473: ValueWarning: No frequency information was provided, so inferred frequency AS-JAN will be used.\n",
      "  self._init_dates(dates, freq)\n",
      "c:\\Users\\alexD\\AppData\\Local\\Programs\\Python\\Python311\\Lib\\site-packages\\statsmodels\\tsa\\base\\tsa_model.py:473: ValueWarning: No frequency information was provided, so inferred frequency AS-JAN will be used.\n",
      "  self._init_dates(dates, freq)\n",
      "c:\\Users\\alexD\\AppData\\Local\\Programs\\Python\\Python311\\Lib\\site-packages\\statsmodels\\tsa\\base\\tsa_model.py:473: ValueWarning: No frequency information was provided, so inferred frequency AS-JAN will be used.\n",
      "  self._init_dates(dates, freq)\n",
      "c:\\Users\\alexD\\AppData\\Local\\Programs\\Python\\Python311\\Lib\\site-packages\\statsmodels\\tsa\\statespace\\sarimax.py:966: UserWarning: Non-stationary starting autoregressive parameters found. Using zeros as starting parameters.\n",
      "  warn('Non-stationary starting autoregressive parameters'\n"
     ]
    },
    {
     "name": "stdout",
     "output_type": "stream",
     "text": [
      "                               SARIMAX Results                                \n",
      "==============================================================================\n",
      "Dep. Variable:      GDP (current US$)   No. Observations:                   59\n",
      "Model:                 ARIMA(1, 0, 1)   Log Likelihood               -1390.073\n",
      "Date:                seg, 17 fev 2025   AIC                           2788.146\n",
      "Time:                        16:46:38   BIC                           2796.456\n",
      "Sample:                    01-01-1960   HQIC                          2791.390\n",
      "                         - 01-01-2018                                         \n",
      "Covariance Type:                  opg                                         \n",
      "==============================================================================\n",
      "                 coef    std err          z      P>|z|      [0.025      0.975]\n",
      "------------------------------------------------------------------------------\n",
      "const       1.295e+10   2.34e-15   5.53e+24      0.000     1.3e+10     1.3e+10\n",
      "ar.L1          0.9927      0.013     74.589      0.000       0.967       1.019\n",
      "ma.L1          0.0502      0.080      0.628      0.530      -0.106       0.207\n",
      "sigma2      1.558e+19   9.95e-22   1.57e+40      0.000    1.56e+19    1.56e+19\n",
      "===================================================================================\n",
      "Ljung-Box (L1) (Q):                   0.14   Jarque-Bera (JB):               469.05\n",
      "Prob(Q):                              0.71   Prob(JB):                         0.00\n",
      "Heteroskedasticity (H):             143.28   Skew:                             2.68\n",
      "Prob(H) (two-sided):                  0.00   Kurtosis:                        15.73\n",
      "===================================================================================\n",
      "\n",
      "Warnings:\n",
      "[1] Covariance matrix calculated using the outer product of gradients (complex-step).\n",
      "[2] Covariance matrix is singular or near-singular, with condition number 9.28e+55. Standard errors may be unstable.\n"
     ]
    }
   ],
   "source": [
    "from statsmodels.tsa.arima.model import ARIMA\n",
    "\n",
    "# ARMA аналогична ARIMA с d=0\n",
    "arma_model = ARIMA(train_data['GDP (current US$)'].dropna(), order=(1, 0, 1))\n",
    "arma_model_fit = arma_model.fit()\n",
    "print(arma_model_fit.summary())\n"
   ]
  },
  {
   "cell_type": "markdown",
   "metadata": {},
   "source": [
    "### Интерпретация результатов SARIMAX\n",
    "\n",
    "Вот как можно интерпретировать некоторые из ключевых данных:\n",
    "\n",
    "#### Основные параметры модели:\n",
    "- ARIMA(1, 0, 1): Модель использует авторегрессию первого порядка (AR(1)) и скользящее среднее первого порядка (MA(1)).\n",
    "- Log Likelihood: Значение функции правдоподобия. Чем выше значение, тем лучше подходит модель.\n",
    "- AIC (Akaike Information Criterion): Критерий информационной сложности модели; помогает сравнивать модели. Меньше — лучше.\n",
    "- BIC (Bayesian Information Criterion): Аналогично AIC, но с более жёстким штрафом за число параметров. Меньше — лучше.\n",
    "  \n",
    "#### Коэффициенты:\n",
    "- const: Константа модели. Здесь она огромная, так как зависит от масштаба данных (в текущих долларах США).\n",
    "- ar.L1: Коэффициент авторегрессии первого порядка. Высокий и близкий к 1, что может указывать на сильную зависимость от предыдущего периода.\n",
    "- ma.L1: Коэффициент компоненты скользящего среднего. Здесь он близок к нулю, что может означать слабый эффект MA в этой модели.\n",
    "\n",
    "#### Диагностические тесты:\n",
    "- Ljung-Box (L1) (Q): Тест на автокорреляцию остатков. Высокое значение Prob(Q) (> 0.05) говорит об отсутствии значимой автокорреляции.\n",
    "- Jarque-Bera (JB): Тест на нормальность остатков. Низкое значение Prob(JB) (< 0.05) предполагает, что остатки не нормальны, что может требовать доработки модели.\n",
    "- Heteroskedasticity (H): Тест на гетероскедастичность. Низкий Prob(H) означает, что остатки имеют разную дисперсию, что также может говорить о необходимости улучшения модели.\n",
    "\n",
    "#### Общая оценка:\n",
    "- Модель имеет хороший AR коэффициент, но недостаточно сильный MA эффект. \n",
    "- Остатки показывают значительную гетероскедастичность и ненормальность, что может потребовать трансформаций данных или пересмотра модели.\n",
    "\n",
    "Следующий шаг — рассмотреть возможности трансформации данных, такие как логарифмирование или дифференцирование, чтобы улучшить стационарность и нормальность остатков. Также могут рассматриваться альтернативные модели, такие как SARIMA или включение дополнительных экзогенных переменных в SARIMAX."
   ]
  },
  {
   "cell_type": "markdown",
   "metadata": {},
   "source": [
    "### Также постройте несколько моделей с параметрами, ближайшими к найденным p и q, и сравните коэффициент AIC (или подберите наилучшие параметры с помощью пакета pmdarima)."
   ]
  },
  {
   "cell_type": "code",
   "execution_count": 42,
   "metadata": {},
   "outputs": [
    {
     "name": "stdout",
     "output_type": "stream",
     "text": [
      "Performing stepwise search to minimize aic\n",
      " ARIMA(1,1,1)(0,1,1)[5]             : AIC=2491.818, Time=63.58 sec\n",
      " ARIMA(0,1,0)(0,1,0)[5]             : AIC=2499.375, Time=0.69 sec\n",
      " ARIMA(1,1,0)(1,1,0)[5]             : AIC=2493.844, Time=16.30 sec\n",
      " ARIMA(0,1,1)(0,1,1)[5]             : AIC=2493.273, Time=10.63 sec\n",
      " ARIMA(1,1,1)(0,1,0)[5]             : AIC=inf, Time=20.86 sec\n",
      " ARIMA(1,1,1)(1,1,1)[5]             : AIC=inf, Time=32.82 sec\n",
      " ARIMA(1,1,1)(0,1,2)[5]             : AIC=2493.670, Time=29.57 sec\n",
      " ARIMA(1,1,1)(1,1,0)[5]             : AIC=inf, Time=1.95 sec\n",
      " ARIMA(1,1,1)(1,1,2)[5]             : AIC=2495.817, Time=8.77 sec\n",
      " ARIMA(1,1,0)(0,1,1)[5]             : AIC=2492.547, Time=0.84 sec\n",
      " ARIMA(2,1,1)(0,1,1)[5]             : AIC=2490.649, Time=2.05 sec\n",
      " ARIMA(2,1,1)(0,1,0)[5]             : AIC=2497.730, Time=6.73 sec\n",
      " ARIMA(2,1,1)(1,1,1)[5]             : AIC=2492.646, Time=3.01 sec\n",
      " ARIMA(2,1,1)(0,1,2)[5]             : AIC=2492.644, Time=7.44 sec\n",
      " ARIMA(2,1,1)(1,1,0)[5]             : AIC=inf, Time=6.30 sec\n",
      " ARIMA(2,1,1)(1,1,2)[5]             : AIC=2494.547, Time=9.92 sec\n",
      " ARIMA(2,1,0)(0,1,1)[5]             : AIC=2492.920, Time=1.36 sec\n",
      " ARIMA(3,1,1)(0,1,1)[5]             : AIC=2493.704, Time=2.57 sec\n",
      " ARIMA(2,1,2)(0,1,1)[5]             : AIC=2490.835, Time=7.67 sec\n",
      " ARIMA(1,1,2)(0,1,1)[5]             : AIC=2494.580, Time=2.29 sec\n",
      " ARIMA(3,1,0)(0,1,1)[5]             : AIC=2491.592, Time=2.50 sec\n",
      " ARIMA(3,1,2)(0,1,1)[5]             : AIC=2489.397, Time=10.44 sec\n",
      " ARIMA(3,1,2)(0,1,0)[5]             : AIC=2494.263, Time=9.08 sec\n",
      " ARIMA(3,1,2)(1,1,1)[5]             : AIC=2490.916, Time=9.11 sec\n",
      " ARIMA(3,1,2)(0,1,2)[5]             : AIC=2488.651, Time=8.09 sec\n",
      " ARIMA(3,1,2)(1,1,2)[5]             : AIC=2490.790, Time=10.20 sec\n",
      " ARIMA(2,1,2)(0,1,2)[5]             : AIC=2489.973, Time=12.09 sec\n",
      " ARIMA(3,1,1)(0,1,2)[5]             : AIC=2494.213, Time=7.41 sec\n",
      " ARIMA(3,1,3)(0,1,2)[5]             : AIC=2492.619, Time=18.20 sec\n",
      " ARIMA(2,1,3)(0,1,2)[5]             : AIC=2486.268, Time=11.73 sec\n",
      " ARIMA(2,1,3)(0,1,1)[5]             : AIC=2492.326, Time=3.00 sec\n",
      " ARIMA(2,1,3)(1,1,2)[5]             : AIC=2495.285, Time=9.18 sec\n",
      " ARIMA(2,1,3)(1,1,1)[5]             : AIC=2489.273, Time=8.43 sec\n",
      " ARIMA(1,1,3)(0,1,2)[5]             : AIC=2499.863, Time=2.63 sec\n",
      " ARIMA(1,1,2)(0,1,2)[5]             : AIC=2496.571, Time=5.82 sec\n",
      " ARIMA(2,1,3)(0,1,2)[5] intercept   : AIC=2488.293, Time=11.37 sec\n",
      "\n",
      "Best model:  ARIMA(2,1,3)(0,1,2)[5]          \n",
      "Total fit time: 375.164 seconds\n"
     ]
    },
    {
     "data": {
      "text/html": [
       "<table class=\"simpletable\">\n",
       "<caption>SARIMAX Results</caption>\n",
       "<tr>\n",
       "  <th>Dep. Variable:</th>                    <td>y</td>                 <th>  No. Observations:  </th>    <td>59</td>    \n",
       "</tr>\n",
       "<tr>\n",
       "  <th>Model:</th>           <td>SARIMAX(2, 1, 3)x(0, 1, [1, 2], 5)</td> <th>  Log Likelihood     </th> <td>-1235.134</td>\n",
       "</tr>\n",
       "<tr>\n",
       "  <th>Date:</th>                     <td>seg, 17 fev 2025</td>          <th>  AIC                </th> <td>2486.268</td> \n",
       "</tr>\n",
       "<tr>\n",
       "  <th>Time:</th>                         <td>17:05:42</td>              <th>  BIC                </th> <td>2502.030</td> \n",
       "</tr>\n",
       "<tr>\n",
       "  <th>Sample:</th>                      <td>01-01-1960</td>             <th>  HQIC               </th> <td>2492.329</td> \n",
       "</tr>\n",
       "<tr>\n",
       "  <th></th>                            <td>- 01-01-2018</td>            <th>                     </th>     <td> </td>    \n",
       "</tr>\n",
       "<tr>\n",
       "  <th>Covariance Type:</th>                 <td>opg</td>                <th>                     </th>     <td> </td>    \n",
       "</tr>\n",
       "</table>\n",
       "<table class=\"simpletable\">\n",
       "<tr>\n",
       "      <td></td>        <th>coef</th>     <th>std err</th>      <th>z</th>      <th>P>|z|</th>  <th>[0.025</th>    <th>0.975]</th>  \n",
       "</tr>\n",
       "<tr>\n",
       "  <th>ar.L1</th>    <td>   -0.4198</td> <td>    0.147</td> <td>   -2.853</td> <td> 0.004</td> <td>   -0.708</td> <td>   -0.131</td>\n",
       "</tr>\n",
       "<tr>\n",
       "  <th>ar.L2</th>    <td>   -0.9990</td> <td>    0.192</td> <td>   -5.193</td> <td> 0.000</td> <td>   -1.376</td> <td>   -0.622</td>\n",
       "</tr>\n",
       "<tr>\n",
       "  <th>ma.L1</th>    <td>    0.3698</td> <td>    0.243</td> <td>    1.522</td> <td> 0.128</td> <td>   -0.106</td> <td>    0.846</td>\n",
       "</tr>\n",
       "<tr>\n",
       "  <th>ma.L2</th>    <td>    0.9216</td> <td>    0.214</td> <td>    4.307</td> <td> 0.000</td> <td>    0.502</td> <td>    1.341</td>\n",
       "</tr>\n",
       "<tr>\n",
       "  <th>ma.L3</th>    <td>    0.4152</td> <td>    0.197</td> <td>    2.105</td> <td> 0.035</td> <td>    0.029</td> <td>    0.802</td>\n",
       "</tr>\n",
       "<tr>\n",
       "  <th>ma.S.L5</th>  <td>    0.0438</td> <td>    0.270</td> <td>    0.162</td> <td> 0.871</td> <td>   -0.485</td> <td>    0.572</td>\n",
       "</tr>\n",
       "<tr>\n",
       "  <th>ma.S.L10</th> <td>   -0.4478</td> <td>    0.315</td> <td>   -1.421</td> <td> 0.155</td> <td>   -1.066</td> <td>    0.170</td>\n",
       "</tr>\n",
       "<tr>\n",
       "  <th>sigma2</th>   <td> 1.363e+19</td> <td>      nan</td> <td>      nan</td> <td>   nan</td> <td>      nan</td> <td>      nan</td>\n",
       "</tr>\n",
       "</table>\n",
       "<table class=\"simpletable\">\n",
       "<tr>\n",
       "  <th>Ljung-Box (L1) (Q):</th>     <td>0.00</td>  <th>  Jarque-Bera (JB):  </th> <td>72.42</td>\n",
       "</tr>\n",
       "<tr>\n",
       "  <th>Prob(Q):</th>                <td>1.00</td>  <th>  Prob(JB):          </th> <td>0.00</td> \n",
       "</tr>\n",
       "<tr>\n",
       "  <th>Heteroskedasticity (H):</th> <td>63.25</td> <th>  Skew:              </th> <td>0.94</td> \n",
       "</tr>\n",
       "<tr>\n",
       "  <th>Prob(H) (two-sided):</th>    <td>0.00</td>  <th>  Kurtosis:          </th> <td>8.41</td> \n",
       "</tr>\n",
       "</table><br/><br/>Warnings:<br/>[1] Covariance matrix calculated using the outer product of gradients (complex-step).<br/>[2] Covariance matrix is singular or near-singular, with condition number 6.74e+53. Standard errors may be unstable."
      ],
      "text/latex": [
       "\\begin{center}\n",
       "\\begin{tabular}{lclc}\n",
       "\\toprule\n",
       "\\textbf{Dep. Variable:}          &                 y                  & \\textbf{  No. Observations:  } &     59      \\\\\n",
       "\\textbf{Model:}                  & SARIMAX(2, 1, 3)x(0, 1, [1, 2], 5) & \\textbf{  Log Likelihood     } & -1235.134   \\\\\n",
       "\\textbf{Date:}                   &          seg, 17 fev 2025          & \\textbf{  AIC                } &  2486.268   \\\\\n",
       "\\textbf{Time:}                   &              17:05:42              & \\textbf{  BIC                } &  2502.030   \\\\\n",
       "\\textbf{Sample:}                 &             01-01-1960             & \\textbf{  HQIC               } &  2492.329   \\\\\n",
       "\\textbf{}                        &            - 01-01-2018            & \\textbf{                     } &             \\\\\n",
       "\\textbf{Covariance Type:}        &                opg                 & \\textbf{                     } &             \\\\\n",
       "\\bottomrule\n",
       "\\end{tabular}\n",
       "\\begin{tabular}{lcccccc}\n",
       "                  & \\textbf{coef} & \\textbf{std err} & \\textbf{z} & \\textbf{P$> |$z$|$} & \\textbf{[0.025} & \\textbf{0.975]}  \\\\\n",
       "\\midrule\n",
       "\\textbf{ar.L1}    &      -0.4198  &        0.147     &    -2.853  &         0.004        &       -0.708    &       -0.131     \\\\\n",
       "\\textbf{ar.L2}    &      -0.9990  &        0.192     &    -5.193  &         0.000        &       -1.376    &       -0.622     \\\\\n",
       "\\textbf{ma.L1}    &       0.3698  &        0.243     &     1.522  &         0.128        &       -0.106    &        0.846     \\\\\n",
       "\\textbf{ma.L2}    &       0.9216  &        0.214     &     4.307  &         0.000        &        0.502    &        1.341     \\\\\n",
       "\\textbf{ma.L3}    &       0.4152  &        0.197     &     2.105  &         0.035        &        0.029    &        0.802     \\\\\n",
       "\\textbf{ma.S.L5}  &       0.0438  &        0.270     &     0.162  &         0.871        &       -0.485    &        0.572     \\\\\n",
       "\\textbf{ma.S.L10} &      -0.4478  &        0.315     &    -1.421  &         0.155        &       -1.066    &        0.170     \\\\\n",
       "\\textbf{sigma2}   &    1.363e+19  &          nan     &       nan  &           nan        &          nan    &          nan     \\\\\n",
       "\\bottomrule\n",
       "\\end{tabular}\n",
       "\\begin{tabular}{lclc}\n",
       "\\textbf{Ljung-Box (L1) (Q):}     &  0.00 & \\textbf{  Jarque-Bera (JB):  } & 72.42  \\\\\n",
       "\\textbf{Prob(Q):}                &  1.00 & \\textbf{  Prob(JB):          } &  0.00  \\\\\n",
       "\\textbf{Heteroskedasticity (H):} & 63.25 & \\textbf{  Skew:              } &  0.94  \\\\\n",
       "\\textbf{Prob(H) (two-sided):}    &  0.00 & \\textbf{  Kurtosis:          } &  8.41  \\\\\n",
       "\\bottomrule\n",
       "\\end{tabular}\n",
       "%\\caption{SARIMAX Results}\n",
       "\\end{center}\n",
       "\n",
       "Warnings: \\newline\n",
       " [1] Covariance matrix calculated using the outer product of gradients (complex-step). \\newline\n",
       " [2] Covariance matrix is singular or near-singular, with condition number 6.74e+53. Standard errors may be unstable."
      ],
      "text/plain": [
       "<class 'statsmodels.iolib.summary.Summary'>\n",
       "\"\"\"\n",
       "                                       SARIMAX Results                                        \n",
       "==============================================================================================\n",
       "Dep. Variable:                                      y   No. Observations:                   59\n",
       "Model:             SARIMAX(2, 1, 3)x(0, 1, [1, 2], 5)   Log Likelihood               -1235.134\n",
       "Date:                                seg, 17 fev 2025   AIC                           2486.268\n",
       "Time:                                        17:05:42   BIC                           2502.030\n",
       "Sample:                                    01-01-1960   HQIC                          2492.329\n",
       "                                         - 01-01-2018                                         \n",
       "Covariance Type:                                  opg                                         \n",
       "==============================================================================\n",
       "                 coef    std err          z      P>|z|      [0.025      0.975]\n",
       "------------------------------------------------------------------------------\n",
       "ar.L1         -0.4198      0.147     -2.853      0.004      -0.708      -0.131\n",
       "ar.L2         -0.9990      0.192     -5.193      0.000      -1.376      -0.622\n",
       "ma.L1          0.3698      0.243      1.522      0.128      -0.106       0.846\n",
       "ma.L2          0.9216      0.214      4.307      0.000       0.502       1.341\n",
       "ma.L3          0.4152      0.197      2.105      0.035       0.029       0.802\n",
       "ma.S.L5        0.0438      0.270      0.162      0.871      -0.485       0.572\n",
       "ma.S.L10      -0.4478      0.315     -1.421      0.155      -1.066       0.170\n",
       "sigma2      1.363e+19        nan        nan        nan         nan         nan\n",
       "===================================================================================\n",
       "Ljung-Box (L1) (Q):                   0.00   Jarque-Bera (JB):                72.42\n",
       "Prob(Q):                              1.00   Prob(JB):                         0.00\n",
       "Heteroskedasticity (H):              63.25   Skew:                             0.94\n",
       "Prob(H) (two-sided):                  0.00   Kurtosis:                         8.41\n",
       "===================================================================================\n",
       "\n",
       "Warnings:\n",
       "[1] Covariance matrix calculated using the outer product of gradients (complex-step).\n",
       "[2] Covariance matrix is singular or near-singular, with condition number 6.74e+53. Standard errors may be unstable.\n",
       "\"\"\""
      ]
     },
     "execution_count": 42,
     "metadata": {},
     "output_type": "execute_result"
    }
   ],
   "source": [
    "# pip install pmdarima\n",
    "import pmdarima as pm\n",
    "\n",
    "smodel = pm.auto_arima(\n",
    "    train_data,\n",
    "    start_p=1,\n",
    "    d=1,\n",
    "    start_q=1,\n",
    "    max_p=3,\n",
    "    max_q=3,\n",
    "    D=1,\n",
    "    start_P=0,\n",
    "    m=5,\n",
    "    test=\"adf\",\n",
    "    error_action=\"ignore\",\n",
    "    trace=True,\n",
    ")\n",
    "\n",
    "smodel.summary()"
   ]
  },
  {
   "cell_type": "markdown",
   "metadata": {},
   "source": [
    "Постройте модель с наилучшими параметрами и выполните предсказание для отложенной тестовой выборки (последние три года)."
   ]
  },
  {
   "cell_type": "markdown",
   "metadata": {},
   "source": [
    "Построение модели ARIMA с наилучшими параметрами:"
   ]
  },
  {
   "cell_type": "code",
   "execution_count": 48,
   "metadata": {},
   "outputs": [
    {
     "name": "stderr",
     "output_type": "stream",
     "text": [
      "c:\\Users\\alexD\\AppData\\Local\\Programs\\Python\\Python311\\Lib\\site-packages\\statsmodels\\tsa\\base\\tsa_model.py:473: ValueWarning: No frequency information was provided, so inferred frequency AS-JAN will be used.\n",
      "  self._init_dates(dates, freq)\n",
      "c:\\Users\\alexD\\AppData\\Local\\Programs\\Python\\Python311\\Lib\\site-packages\\statsmodels\\tsa\\base\\tsa_model.py:473: ValueWarning: No frequency information was provided, so inferred frequency AS-JAN will be used.\n",
      "  self._init_dates(dates, freq)\n",
      "c:\\Users\\alexD\\AppData\\Local\\Programs\\Python\\Python311\\Lib\\site-packages\\statsmodels\\tsa\\base\\tsa_model.py:473: ValueWarning: No frequency information was provided, so inferred frequency AS-JAN will be used.\n",
      "  self._init_dates(dates, freq)\n"
     ]
    },
    {
     "data": {
      "text/html": [
       "<table class=\"simpletable\">\n",
       "<caption>SARIMAX Results</caption>\n",
       "<tr>\n",
       "  <th>Dep. Variable:</th>   <td>GDP (current US$)</td> <th>  No. Observations:  </th>    <td>59</td>    \n",
       "</tr>\n",
       "<tr>\n",
       "  <th>Model:</th>            <td>ARIMA(1, 3, 1)</td>   <th>  Log Likelihood     </th> <td>-1332.455</td>\n",
       "</tr>\n",
       "<tr>\n",
       "  <th>Date:</th>            <td>seg, 17 fev 2025</td>  <th>  AIC                </th> <td>2670.910</td> \n",
       "</tr>\n",
       "<tr>\n",
       "  <th>Time:</th>                <td>17:35:16</td>      <th>  BIC                </th> <td>2676.986</td> \n",
       "</tr>\n",
       "<tr>\n",
       "  <th>Sample:</th>             <td>01-01-1960</td>     <th>  HQIC               </th> <td>2673.266</td> \n",
       "</tr>\n",
       "<tr>\n",
       "  <th></th>                   <td>- 01-01-2018</td>    <th>                     </th>     <td> </td>    \n",
       "</tr>\n",
       "<tr>\n",
       "  <th>Covariance Type:</th>        <td>opg</td>        <th>                     </th>     <td> </td>    \n",
       "</tr>\n",
       "</table>\n",
       "<table class=\"simpletable\">\n",
       "<tr>\n",
       "     <td></td>       <th>coef</th>     <th>std err</th>      <th>z</th>      <th>P>|z|</th>  <th>[0.025</th>    <th>0.975]</th>  \n",
       "</tr>\n",
       "<tr>\n",
       "  <th>ar.L1</th>  <td>   -0.5073</td> <td>    0.091</td> <td>   -5.600</td> <td> 0.000</td> <td>   -0.685</td> <td>   -0.330</td>\n",
       "</tr>\n",
       "<tr>\n",
       "  <th>ma.L1</th>  <td>   -0.9751</td> <td>    0.132</td> <td>   -7.380</td> <td> 0.000</td> <td>   -1.234</td> <td>   -0.716</td>\n",
       "</tr>\n",
       "<tr>\n",
       "  <th>sigma2</th> <td> 4.066e+19</td> <td> 1.88e-21</td> <td> 2.17e+40</td> <td> 0.000</td> <td> 4.07e+19</td> <td> 4.07e+19</td>\n",
       "</tr>\n",
       "</table>\n",
       "<table class=\"simpletable\">\n",
       "<tr>\n",
       "  <th>Ljung-Box (L1) (Q):</th>      <td>3.34</td>  <th>  Jarque-Bera (JB):  </th> <td>140.21</td>\n",
       "</tr>\n",
       "<tr>\n",
       "  <th>Prob(Q):</th>                 <td>0.07</td>  <th>  Prob(JB):          </th>  <td>0.00</td> \n",
       "</tr>\n",
       "<tr>\n",
       "  <th>Heteroskedasticity (H):</th> <td>441.28</td> <th>  Skew:              </th>  <td>-0.45</td>\n",
       "</tr>\n",
       "<tr>\n",
       "  <th>Prob(H) (two-sided):</th>     <td>0.00</td>  <th>  Kurtosis:          </th>  <td>10.70</td>\n",
       "</tr>\n",
       "</table><br/><br/>Warnings:<br/>[1] Covariance matrix calculated using the outer product of gradients (complex-step).<br/>[2] Covariance matrix is singular or near-singular, with condition number 2.68e+56. Standard errors may be unstable."
      ],
      "text/latex": [
       "\\begin{center}\n",
       "\\begin{tabular}{lclc}\n",
       "\\toprule\n",
       "\\textbf{Dep. Variable:}          & GDP (current US\\$) & \\textbf{  No. Observations:  } &     59      \\\\\n",
       "\\textbf{Model:}                  &   ARIMA(1, 3, 1)   & \\textbf{  Log Likelihood     } & -1332.455   \\\\\n",
       "\\textbf{Date:}                   &  seg, 17 fev 2025  & \\textbf{  AIC                } &  2670.910   \\\\\n",
       "\\textbf{Time:}                   &      17:35:16      & \\textbf{  BIC                } &  2676.986   \\\\\n",
       "\\textbf{Sample:}                 &     01-01-1960     & \\textbf{  HQIC               } &  2673.266   \\\\\n",
       "\\textbf{}                        &    - 01-01-2018    & \\textbf{                     } &             \\\\\n",
       "\\textbf{Covariance Type:}        &        opg         & \\textbf{                     } &             \\\\\n",
       "\\bottomrule\n",
       "\\end{tabular}\n",
       "\\begin{tabular}{lcccccc}\n",
       "                & \\textbf{coef} & \\textbf{std err} & \\textbf{z} & \\textbf{P$> |$z$|$} & \\textbf{[0.025} & \\textbf{0.975]}  \\\\\n",
       "\\midrule\n",
       "\\textbf{ar.L1}  &      -0.5073  &        0.091     &    -5.600  &         0.000        &       -0.685    &       -0.330     \\\\\n",
       "\\textbf{ma.L1}  &      -0.9751  &        0.132     &    -7.380  &         0.000        &       -1.234    &       -0.716     \\\\\n",
       "\\textbf{sigma2} &    4.066e+19  &     1.88e-21     &  2.17e+40  &         0.000        &     4.07e+19    &     4.07e+19     \\\\\n",
       "\\bottomrule\n",
       "\\end{tabular}\n",
       "\\begin{tabular}{lclc}\n",
       "\\textbf{Ljung-Box (L1) (Q):}     &  3.34  & \\textbf{  Jarque-Bera (JB):  } & 140.21  \\\\\n",
       "\\textbf{Prob(Q):}                &  0.07  & \\textbf{  Prob(JB):          } &  0.00   \\\\\n",
       "\\textbf{Heteroskedasticity (H):} & 441.28 & \\textbf{  Skew:              } & -0.45   \\\\\n",
       "\\textbf{Prob(H) (two-sided):}    &  0.00  & \\textbf{  Kurtosis:          } & 10.70   \\\\\n",
       "\\bottomrule\n",
       "\\end{tabular}\n",
       "%\\caption{SARIMAX Results}\n",
       "\\end{center}\n",
       "\n",
       "Warnings: \\newline\n",
       " [1] Covariance matrix calculated using the outer product of gradients (complex-step). \\newline\n",
       " [2] Covariance matrix is singular or near-singular, with condition number 2.68e+56. Standard errors may be unstable."
      ],
      "text/plain": [
       "<class 'statsmodels.iolib.summary.Summary'>\n",
       "\"\"\"\n",
       "                               SARIMAX Results                                \n",
       "==============================================================================\n",
       "Dep. Variable:      GDP (current US$)   No. Observations:                   59\n",
       "Model:                 ARIMA(1, 3, 1)   Log Likelihood               -1332.455\n",
       "Date:                seg, 17 fev 2025   AIC                           2670.910\n",
       "Time:                        17:35:16   BIC                           2676.986\n",
       "Sample:                    01-01-1960   HQIC                          2673.266\n",
       "                         - 01-01-2018                                         \n",
       "Covariance Type:                  opg                                         \n",
       "==============================================================================\n",
       "                 coef    std err          z      P>|z|      [0.025      0.975]\n",
       "------------------------------------------------------------------------------\n",
       "ar.L1         -0.5073      0.091     -5.600      0.000      -0.685      -0.330\n",
       "ma.L1         -0.9751      0.132     -7.380      0.000      -1.234      -0.716\n",
       "sigma2      4.066e+19   1.88e-21   2.17e+40      0.000    4.07e+19    4.07e+19\n",
       "===================================================================================\n",
       "Ljung-Box (L1) (Q):                   3.34   Jarque-Bera (JB):               140.21\n",
       "Prob(Q):                              0.07   Prob(JB):                         0.00\n",
       "Heteroskedasticity (H):             441.28   Skew:                            -0.45\n",
       "Prob(H) (two-sided):                  0.00   Kurtosis:                        10.70\n",
       "===================================================================================\n",
       "\n",
       "Warnings:\n",
       "[1] Covariance matrix calculated using the outer product of gradients (complex-step).\n",
       "[2] Covariance matrix is singular or near-singular, with condition number 2.68e+56. Standard errors may be unstable.\n",
       "\"\"\""
      ]
     },
     "execution_count": 48,
     "metadata": {},
     "output_type": "execute_result"
    }
   ],
   "source": [
    "from statsmodels.tsa.arima.model import ARIMA\n",
    "\n",
    "model = ARIMA(train_data['GDP (current US$)'], order=(2,1,3))\n",
    "model_fit = arima_model.fit()\n",
    "model_fit.summary()\n",
    "\n"
   ]
  },
  {
   "cell_type": "markdown",
   "metadata": {},
   "source": [
    " Предсказание для тестовой выборки:"
   ]
  },
  {
   "cell_type": "code",
   "execution_count": 49,
   "metadata": {},
   "outputs": [
    {
     "name": "stdout",
     "output_type": "stream",
     "text": [
      "            GDP (current US$) Predicted_GDP\n",
      "year                                       \n",
      "2019-01-01       6.833754e+10           NaN\n",
      "2020-01-01       7.004320e+10           NaN\n",
      "2021-01-01       7.759428e+10           NaN\n"
     ]
    }
   ],
   "source": [
    "# Предсказание на длину тестовой выборки\n",
    "forecast = model_fit.forecast(steps=len(test_data))\n",
    "   \n",
    "# Преобразование результата в DataFrame для удобства\n",
    "forecast_df = pd.DataFrame(forecast, index=test_data.index, columns=['Predicted_GDP'])\n",
    "\n",
    "# Объединение с реальными данными для сравнения\n",
    "comparison = pd.concat([test_data['GDP (current US$)'], forecast_df], axis=1)\n",
    "\n",
    "print(comparison)\n",
    "   \n"
   ]
  },
  {
   "cell_type": "markdown",
   "metadata": {},
   "source": [
    "Отобразите результат графически — постройте графики истинного и предсказанного поведения временного ряда, а также 95%-ый доверительный интервал для прогноза."
   ]
  },
  {
   "cell_type": "markdown",
   "metadata": {},
   "source": [
    "Построение графиков для визуализации:"
   ]
  },
  {
   "cell_type": "code",
   "execution_count": 50,
   "metadata": {},
   "outputs": [
    {
     "data": {
      "image/png": "[encoded data removed]",
      "text/plain": [
       "<Figure size 1200x600 with 1 Axes>"
      ]
     },
     "metadata": {},
     "output_type": "display_data"
    }
   ],
   "source": [
    "import matplotlib.pyplot as plt\n",
    "\n",
    "plt.figure(figsize=(12, 6))\n",
    "plt.plot(train_data.index, train_data['GDP (current US$)'], label='Train')\n",
    "plt.plot(test_data.index, test_data['GDP (current US$)'], label='Test')\n",
    "plt.plot(forecast_df.index, forecast_df['Predicted_GDP'], label='Predicted')\n",
    "plt.legend()\n",
    "plt.show()\n",
    "   \n"
   ]
  },
  {
   "cell_type": "markdown",
   "metadata": {},
   "source": [
    "Выводы по графику\n",
    "\n",
    "1. Тренд данных  \n",
    "   Из графика видно, что данные о ВВП (GDP) имеют выраженный растущий тренд, особенно начиная с 2000-х годов. Это говорит о долгосрочном экономическом росте.\n",
    "\n",
    "2. Тестовые и предсказанные данные  \n",
    "   - Тестовые данные (зеленая линия) хорошо совпадают с общим трендом исторических данных, что указывает на продолжение роста ВВП.\n",
    "   - Предсказанные значения (красная линия) также следуют общему тренду и продолжают рост в том же направлении. Это может свидетельствовать о корректности модели.\n",
    "\n",
    "3. Качество предсказания  \n",
    "   - Предсказанные значения выглядят реалистично, но заметно, что линия немного выше реальных тестовых данных. Это может быть вызвано переоценкой роста модели ARIMA или ограниченностью данных для обучения.\n",
    "   - Для более точной оценки качества предсказания следует рассчитать метрики, такие как MAE (Mean Absolute Error) или RMSE (Root Mean Squared Error).\n",
    "\n",
    "4. Влияние исторических данных  \n",
    "   - Кажется, что обучающая выборка (синяя линия) дает достаточное количество наблюдений для оценки долгосрочного тренда.\n",
    "   - Однако, учитывая резкий рост с 2000 года, можно предположить, что более сложные процессы или экономические факторы влияют на данные в последнее время, что может сократить прогнозную точность.\n",
    "\n",
    "5. Рекомендации  \n",
    "   - Убедиться, что параметры модели ARIMA (p, d, q) подобраны оптимально с учетом автокорреляции, объединения тренда и сезонности.\n",
    "   - Добавить дополнительные метрики оценки качества модели и анализа остатков (residuals), чтобы проверить, насколько хорошо модель подстраивается под данные.\n",
    "   - Возможно, стоит протестировать альтернативные модели, такие как SARIMA (для учета сезонности) или более сложные нейросетевые модели, если тренд ВВП будет оставаться нестабильным.\n",
    "\n",
    "Общий вывод  \n",
    "Модель ARIMA справляется с задачей построения прогноза, она достаточно точно повторяет общую тенденцию. Однако, небольшая переоценка значений предсказаний указывает на возможность улучшения модели (например, через дополнительную проверку параметров или учет более сложных факторов)."
   ]
  }
 ],
 "metadata": {
  "kernelspec": {
   "display_name": "Python 3",
   "language": "python",
   "name": "python3"
  },
  "language_info": {
   "codemirror_mode": {
    "name": "ipython",
    "version": 3
   },
   "file_extension": ".py",
   "mimetype": "text/x-python",
   "name": "python",
   "nbconvert_exporter": "python",
   "pygments_lexer": "ipython3",
   "version": "3.11.2"
  }
 },
 "nbformat": 4,
 "nbformat_minor": 2
}
